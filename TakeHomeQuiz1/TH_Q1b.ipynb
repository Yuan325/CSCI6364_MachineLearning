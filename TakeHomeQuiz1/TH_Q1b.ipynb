{
  "nbformat": 4,
  "nbformat_minor": 0,
  "metadata": {
    "colab": {
      "name": "TH_Q1b.ipynb",
      "provenance": [],
      "collapsed_sections": [],
      "authorship_tag": "ABX9TyMcR5Ow4d8E0iU64hDVl0Z1",
      "include_colab_link": true
    },
    "kernelspec": {
      "name": "python3",
      "display_name": "Python 3"
    }
  },
  "cells": [
    {
      "cell_type": "markdown",
      "metadata": {
        "id": "view-in-github",
        "colab_type": "text"
      },
      "source": [
        "<a href=\"https://colab.research.google.com/github/Yuan325/CSCI6364_MachineLearning/blob/main/TakeHomeQuiz1/TH_Q1b.ipynb\" target=\"_parent\"><img src=\"https://colab.research.google.com/assets/colab-badge.svg\" alt=\"Open In Colab\"/></a>"
      ]
    },
    {
      "cell_type": "markdown",
      "metadata": {
        "id": "u-4MDbIBMgAy"
      },
      "source": [
        "(1) What is the classification problem you addressing?\n",
        "\n",
        "I am addressing a **binary classification** problem that are predicting whether a given image is a horse (0) or human (1).\n",
        "The results that I used is from a tensorflow-trained model (it was an exercise from the Coursera ML Tensoflow course that I did previously). I ran the model and collected results with model that are ran for 15 epochs and 30 epochs. In addition, I also generated a set of random data.\n",
        "\n",
        "To be exact, the results contains yhat_prob (probability-based prediction that includes decimals), as well as yhat_class (class-based prediction of 0 or 1). \n",
        "\n",
        "Each data result contains an array of length 3:\n",
        "- data[0]: y\n",
        "- data[1]: yhat_prob\n",
        "- data[2]: yhat_class \n",
        "\n",
        "In this exercise, I will be running each metrics with 3 sets of datas (15 epochs / 30 epochs / random ).\n",
        "\n",
        "y contains 128 horse and 128 human images, with a total of 256 data for each set of results."
      ]
    },
    {
      "cell_type": "code",
      "metadata": {
        "colab": {
          "base_uri": "https://localhost:8080/"
        },
        "id": "2hDLAUM3_Qs_",
        "outputId": "781ed557-708a-471d-c77d-650f42bb9a84"
      },
      "source": [
        "# with 15 epochs\n",
        "data_synthetic15 = [[1.0, 1.0, 1.0], [1.0, 1.0, 1.0], [1.0, 1.0, 1.0], [1.0, 1.0, 1.0], [1.0, 1.0, 1.0], [1.0, 1.0, 1.0], [1.0, 1.0, 1.0], [1.0, 1.0, 1.0], [1.0, 1.0, 1.0], [1.0, 1.0, 1.0], [1.0, 1.0, 1.0], [1.0, 1.0, 1.0], [1.0, 1.0, 1.0], [1.0, 1.0, 1.0], [1.0, 1.0, 1.0], [1.0, 1.0, 1.0], [1.0, 1.0, 1.0], [1.0, 1.0, 1.0], [1.0, 1.0, 1.0], [1.0, 1.0, 1.0], [1.0, 1.0, 1.0], [1.0, 1.0, 1.0], [1.0, 1.0, 1.0], [1.0, 1.0683918e-30, 0.0], [1.0, 1.0, 1.0], [1.0, 1.0, 1.0], [1.0, 1.0, 1.0], [1.0, 1.0, 1.0], [1.0, 1.0, 1.0], [1.0, 1.0, 1.0], [1.0, 1.0, 1.0], [1.0, 1.0, 1.0], [1.0, 1.0, 1.0], [1.0, 1.0, 1.0], [1.0, 1.0, 1.0], [1.0, 1.0, 1.0], [1.0, 1.0, 1.0], [1.0, 1.0, 1.0], [1.0, 1.0, 1.0], [1.0, 1.0, 1.0], [1.0, 1.0, 1.0], [1.0, 1.0, 1.0], [1.0, 1.0, 1.0], [1.0, 1.0, 1.0], [1.0, 1.0, 1.0], [1.0, 1.0, 1.0], [1.0, 1.0, 1.0], [1.0, 1.0, 1.0], [1.0, 1.0, 1.0], [1.0, 1.0, 1.0], [1.0, 1.0, 1.0], [1.0, 1.0, 1.0], [1.0, 1.0, 1.0], [1.0, 1.0, 1.0], [1.0, 1.0, 1.0], [1.0, 1.0, 1.0], [1.0, 1.0, 1.0], [1.0, 0.0, 0.0], [1.0, 1.0, 1.0], [1.0, 1.0, 1.0], [1.0, 1.0, 1.0], [1.0, 1.0, 1.0], [1.0, 1.0, 1.0], [1.0, 1.0, 1.0], [1.0, 1.0, 1.0], [1.0, 1.0, 1.0], [1.0, 1.0, 1.0], [1.0, 1.0, 1.0], [1.0, 1.0, 1.0], [1.0, 1.0, 1.0], [1.0, 1.0, 1.0], [1.0, 1.0, 1.0], [1.0, 1.0, 1.0], [1.0, 1.0, 1.0], [1.0, 1.0, 1.0], [1.0, 1.0, 1.0], [1.0, 1.0, 1.0], [1.0, 1.0, 1.0], [1.0, 1.0, 1.0], [1.0, 1.0, 1.0], [1.0, 1.0, 1.0], [1.0, 1.0, 1.0], [1.0, 1.0, 1.0], [1.0, 1.0, 1.0], [1.0, 1.0, 1.0], [1.0, 1.0, 1.0], [1.0, 1.0, 1.0], [1.0, 1.0, 1.0], [1.0, 1.0, 1.0], [1.0, 1.0, 1.0], [1.0, 1.0, 1.0], [1.0, 1.0, 1.0], [1.0, 1.0, 1.0], [1.0, 1.0, 1.0], [1.0, 1.0, 1.0], [1.0, 1.0, 1.0], [1.0, 1.0, 1.0], [1.0, 1.0, 1.0], [1.0, 1.0, 1.0], [1.0, 1.0, 1.0], [1.0, 1.0, 1.0], [1.0, 1.0, 1.0], [1.0, 1.0, 1.0], [1.0, 1.0, 1.0], [1.0, 1.0, 1.0], [1.0, 1.0, 1.0], [1.0, 1.0, 1.0], [1.0, 1.0, 1.0], [1.0, 1.0, 1.0], [1.0, 1.0, 1.0], [1.0, 1.0, 1.0], [1.0, 1.0, 1.0], [1.0, 0.0, 0.0], [1.0, 1.0, 1.0], [1.0, 1.0, 1.0], [1.0, 1.0, 1.0], [1.0, 1.0, 1.0], [1.0, 1.0, 1.0], [1.0, 1.0, 1.0], [1.0, 1.0, 1.0], [1.0, 1.0, 1.0], [1.0, 1.0, 1.0], [1.0, 1.0, 1.0], [1.0, 1.0, 1.0], [1.0, 1.0, 1.0], [1.0, 1.0, 1.0], [1.0, 1.0, 1.0], [1.0, 1.0, 1.0], [0.0, 0.0, 0.0], [0.0, 0.0, 0.0], [0.0, 0.0, 0.0], [0.0, 1.0, 1.0], [0.0, 0.0, 0.0], [0.0, 0.0, 0.0], [0.0, 1.0, 1.0], [0.0, 0.0, 0.0], [0.0, 0.0, 0.0], [0.0, 0.0, 0.0], [0.0, 0.0, 0.0], [0.0, 0.0, 0.0], [0.0, 1.0, 1.0], [0.0, 0.0, 0.0], [0.0, 0.0, 0.0], [0.0, 0.0, 0.0], [0.0, 0.0, 0.0], [0.0, 0.0, 0.0], [0.0, 1.0, 1.0], [0.0, 0.0, 0.0], [0.0, 1.0, 1.0], [0.0, 0.0, 0.0], [0.0, 0.0, 0.0], [0.0, 0.0, 0.0], [0.0, 0.0, 0.0], [0.0, 1.0, 1.0], [0.0, 0.0, 0.0], [0.0, 0.0, 0.0], [0.0, 0.0, 0.0], [0.0, 1.0, 1.0], [0.0, 0.0, 0.0], [0.0, 0.0, 0.0], [0.0, 1.0, 1.0], [0.0, 0.0, 0.0], [0.0, 0.0, 0.0], [0.0, 0.0, 0.0], [0.0, 1.0, 1.0], [0.0, 1.0, 1.0], [0.0, 0.0, 0.0], [0.0, 0.0, 0.0], [0.0, 0.0, 0.0], [0.0, 0.0, 0.0], [0.0, 1.0, 1.0], [0.0, 0.0, 0.0], [0.0, 0.0, 0.0], [0.0, 1.0, 1.0], [0.0, 0.0, 0.0], [0.0, 0.0, 0.0], [0.0, 0.0, 0.0], [0.0, 0.0, 0.0], [0.0, 1.0, 1.0], [0.0, 0.0, 0.0], [0.0, 0.0, 0.0], [0.0, 0.0, 0.0], [0.0, 0.0, 0.0], [0.0, 1.0, 1.0], [0.0, 0.0, 0.0], [0.0, 0.0, 0.0], [0.0, 1.0, 1.0], [0.0, 0.0, 0.0], [0.0, 0.0, 0.0], [0.0, 1.0, 1.0], [0.0, 0.0, 0.0], [0.0, 1.0, 1.0], [0.0, 0.0, 0.0], [0.0, 0.0, 0.0], [0.0, 0.0, 0.0], [0.0, 1.0, 1.0], [0.0, 0.0, 0.0], [0.0, 0.0, 0.0], [0.0, 0.0, 0.0], [0.0, 1.0, 1.0], [0.0, 1.0, 1.0], [0.0, 0.0, 0.0], [0.0, 0.0, 0.0], [0.0, 0.0, 0.0], [0.0, 0.0, 0.0], [0.0, 1.0, 1.0], [0.0, 0.0, 0.0], [0.0, 0.0, 0.0], [0.0, 0.0, 0.0], [0.0, 0.0, 0.0], [0.0, 0.0, 0.0], [0.0, 0.0, 0.0], [0.0, 1.0, 1.0], [0.0, 0.0, 0.0], [0.0, 0.0, 0.0], [0.0, 0.0, 0.0], [0.0, 0.0, 0.0], [0.0, 0.0, 0.0], [0.0, 1.0, 1.0], [0.0, 0.0, 0.0], [0.0, 0.0, 0.0], [0.0, 0.0, 0.0], [0.0, 1.0, 1.0], [0.0, 0.0, 0.0], [0.0, 0.0, 0.0], [0.0, 0.0, 0.0], [0.0, 0.0, 0.0], [0.0, 0.0, 0.0], [0.0, 0.0, 0.0], [0.0, 0.0, 0.0], [0.0, 0.0, 0.0], [0.0, 1.9458031e-10, 0.0], [0.0, 0.0, 0.0], [0.0, 1.0, 1.0], [0.0, 1.0, 1.0], [0.0, 0.0, 0.0], [0.0, 0.0, 0.0], [0.0, 0.0, 0.0], [0.0, 0.0, 0.0], [0.0, 0.0, 0.0], [0.0, 0.0, 0.0], [0.0, 1.0, 1.0], [0.0, 0.0, 0.0], [0.0, 0.0, 0.0], [0.0, 0.0, 0.0], [0.0, 0.0, 0.0], [0.0, 0.0, 0.0], [0.0, 1.0, 1.0], [0.0, 0.0, 0.0], [0.0, 0.0, 0.0], [0.0, 0.0, 0.0], [0.0, 0.0, 0.0], [0.0, 0.0, 0.0], [0.0, 0.0, 0.0], [0.0, 0.0, 0.0], [0.0, 0.0, 0.0]]\n",
        "print(\"number of data for 15 epochs: \", len(data_synthetic15))\n",
        "\n",
        "# with 30 epochs\n",
        "data_synthetic30 = [[1.0, 1.0, 1.0], [1.0, 1.0, 1.0], [1.0, 1.0, 1.0], [1.0, 1.0, 1.0], [1.0, 1.0, 1.0], [1.0, 1.0, 1.0], [1.0, 1.0, 1.0], [1.0, 1.0, 1.0], [1.0, 1.0, 1.0], [1.0, 1.0, 1.0], [1.0, 1.0, 1.0], [1.0, 1.0, 1.0], [1.0, 1.0, 1.0], [1.0, 1.0, 1.0], [1.0, 1.0, 1.0], [1.0, 1.0, 1.0], [1.0, 1.0, 1.0], [1.0, 1.0, 1.0], [1.0, 1.0, 1.0], [1.0, 1.0, 1.0], [1.0, 1.0, 1.0], [1.0, 1.0, 1.0], [1.0, 1.0, 1.0], [1.0, 1.0, 1.0], [1.0, 1.0, 1.0], [1.0, 1.0, 1.0], [1.0, 1.0, 1.0], [1.0, 1.0, 1.0], [1.0, 1.0, 1.0], [1.0, 1.0, 1.0], [1.0, 1.0, 1.0], [1.0, 1.0, 1.0], [1.0, 1.0, 1.0], [1.0, 1.0, 1.0], [1.0, 1.0, 1.0], [1.0, 1.0, 1.0], [1.0, 1.0, 1.0], [1.0, 1.0, 1.0], [1.0, 1.0, 1.0], [1.0, 1.0, 1.0], [1.0, 1.0, 1.0], [1.0, 1.0, 1.0], [1.0, 1.0, 1.0], [1.0, 1.0, 1.0], [1.0, 1.0, 1.0], [1.0, 1.0, 1.0], [1.0, 1.0, 1.0], [1.0, 1.0, 1.0], [1.0, 1.0, 1.0], [1.0, 1.0, 1.0], [1.0, 0.0, 0.0], [1.0, 1.0, 1.0], [1.0, 1.0, 1.0], [1.0, 1.0, 1.0], [1.0, 1.0, 1.0], [1.0, 1.0, 1.0], [1.0, 1.0, 1.0], [1.0, 1.0, 1.0], [1.0, 1.0, 1.0], [1.0, 1.0, 1.0], [1.0, 1.0, 1.0], [1.0, 1.0, 1.0], [1.0, 1.0, 1.0], [1.0, 1.0, 1.0], [1.0, 1.0, 1.0], [1.0, 1.0, 1.0], [1.0, 1.0, 1.0], [1.0, 1.0, 1.0], [1.0, 1.0, 1.0], [1.0, 1.0, 1.0], [1.0, 1.0, 1.0], [1.0, 1.0, 1.0], [1.0, 1.0, 1.0], [1.0, 1.0, 1.0], [1.0, 1.0, 1.0], [1.0, 1.0, 1.0], [1.0, 1.0, 1.0], [1.0, 1.0, 1.0], [1.0, 1.0, 1.0], [1.0, 1.0, 1.0], [1.0, 1.0, 1.0], [1.0, 1.0, 1.0], [1.0, 1.0, 1.0], [1.0, 1.0, 1.0], [1.0, 1.0, 1.0], [1.0, 1.0, 1.0], [1.0, 1.0, 1.0], [1.0, 1.0, 1.0], [1.0, 1.0, 1.0], [1.0, 1.0, 1.0], [1.0, 1.0, 1.0], [1.0, 1.0, 1.0], [1.0, 1.0, 1.0], [1.0, 1.0, 1.0], [1.0, 1.0, 1.0], [1.0, 1.0, 1.0], [1.0, 1.0, 1.0], [1.0, 1.0, 1.0], [1.0, 1.0, 1.0], [1.0, 1.0, 1.0], [1.0, 1.0, 1.0], [1.0, 0.0, 0.0], [1.0, 1.0, 1.0], [1.0, 1.0, 1.0], [1.0, 1.0, 1.0], [1.0, 1.0, 1.0], [1.0, 1.0, 1.0], [1.0, 1.0, 1.0], [1.0, 1.0, 1.0], [1.0, 1.0, 1.0], [1.0, 1.0, 1.0], [1.0, 1.0, 1.0], [1.0, 1.0, 1.0], [1.0, 1.0, 1.0], [1.0, 1.0, 1.0], [1.0, 1.0, 1.0], [1.0, 1.0, 1.0], [1.0, 1.0, 1.0], [1.0, 1.0, 1.0], [1.0, 1.0, 1.0], [1.0, 1.0, 1.0], [1.0, 1.0, 1.0], [1.0, 1.0, 1.0], [1.0, 1.0, 1.0], [1.0, 1.0, 1.0], [1.0, 1.0, 1.0], [1.0, 1.0, 1.0], [1.0, 1.0, 1.0], [0.0, 0.0, 0.0], [0.0, 0.0, 0.0], [0.0, 0.0, 0.0], [0.0, 1.0, 1.0], [0.0, 0.0, 0.0], [0.0, 1.0, 1.0], [0.0, 0.0, 0.0], [0.0, 0.0, 0.0], [0.0, 1.0, 1.0], [0.0, 0.0, 0.0], [0.0, 0.0, 0.0], [0.0, 0.0, 0.0], [0.0, 0.0, 0.0], [0.0, 0.0, 0.0], [0.0, 0.0, 0.0], [0.0, 0.0, 0.0], [0.0, 0.0, 0.0], [0.0, 0.0, 0.0], [0.0, 0.0, 0.0], [0.0, 0.0, 0.0], [0.0, 1.0, 1.0], [0.0, 1.0, 1.0], [0.0, 1.0, 1.0], [0.0, 0.0, 0.0], [0.0, 1.0, 1.0], [0.0, 0.0, 0.0], [0.0, 0.0, 0.0], [0.0, 1.0, 1.0], [0.0, 0.0, 0.0], [0.0, 0.0, 0.0], [0.0, 0.0, 0.0], [0.0, 0.0, 0.0], [0.0, 1.0, 1.0], [0.0, 0.0, 0.0], [0.0, 0.0, 0.0], [0.0, 0.0, 0.0], [0.0, 1.0, 1.0], [0.0, 0.0, 0.0], [0.0, 0.0, 0.0], [0.0, 0.0, 0.0], [0.0, 1.0, 1.0], [0.0, 1.0, 1.0], [0.0, 1.0, 1.0], [0.0, 0.0, 0.0], [0.0, 1.0, 1.0], [0.0, 0.0, 0.0], [0.0, 0.0, 0.0], [0.0, 0.0, 0.0], [0.0, 0.0, 0.0], [0.0, 0.0, 0.0], [0.0, 1.0, 1.0], [0.0, 1.0, 1.0], [0.0, 0.0, 0.0], [0.0, 0.0, 0.0], [0.0, 1.0, 1.0], [0.0, 0.0, 0.0], [0.0, 0.0, 0.0], [0.0, 0.0, 0.0], [0.0, 0.0, 0.0], [0.0, 0.0, 0.0], [0.0, 0.0, 0.0], [0.0, 7.485012e-35, 0.0], [0.0, 1.0, 1.0], [0.0, 0.0, 0.0], [0.0, 1.0, 1.0], [0.0, 1.0, 1.0], [0.0, 1.0, 1.0], [0.0, 0.0, 0.0], [0.0, 1.0, 1.0], [0.0, 1.0, 1.0], [0.0, 0.0, 0.0], [0.0, 1.0, 1.0], [0.0, 0.0, 0.0], [0.0, 0.0, 0.0], [0.0, 0.0, 0.0], [0.0, 0.0, 0.0], [0.0, 0.0, 0.0], [0.0, 0.0, 0.0], [0.0, 0.0, 0.0], [0.0, 1.0, 1.0], [0.0, 0.0, 0.0], [0.0, 0.0, 0.0], [0.0, 0.0, 0.0], [0.0, 0.0, 0.0], [0.0, 0.0, 0.0], [0.0, 0.0, 0.0], [0.0, 0.0, 0.0], [0.0, 0.0, 0.0], [0.0, 1.0, 1.0], [0.0, 0.0, 0.0], [0.0, 0.0, 0.0], [0.0, 0.0, 0.0], [0.0, 1.0, 1.0], [0.0, 0.0, 0.0], [0.0, 0.0, 0.0], [0.0, 0.0, 0.0], [0.0, 1.0, 1.0], [0.0, 0.0, 0.0], [0.0, 1.0, 1.0], [0.0, 0.0, 0.0], [0.0, 0.0, 0.0], [0.0, 1.0, 1.0], [0.0, 1.0, 1.0], [0.0, 1.0, 1.0], [0.0, 0.0, 0.0], [0.0, 0.0, 0.0], [0.0, 0.0, 0.0], [0.0, 0.0, 0.0], [0.0, 0.0, 0.0], [0.0, 0.0, 0.0], [0.0, 0.0, 0.0], [0.0, 0.0, 0.0], [0.0, 0.0, 0.0], [0.0, 0.0, 0.0], [0.0, 0.0, 0.0], [0.0, 0.0, 0.0], [0.0, 0.0, 0.0], [0.0, 0.0, 0.0], [0.0, 0.0, 0.0], [0.0, 0.0, 0.0], [0.0, 0.0, 0.0], [0.0, 1.0, 1.0], [0.0, 1.0, 1.0], [0.0, 1.0, 1.0], [0.0, 1.0, 1.0], [0.0, 1.0, 1.0], [0.0, 0.0, 0.0], [0.0, 0.0, 0.0]]\n",
        "print(\"number of data for 30 epochs: \", len(data_synthetic30))\n",
        "\n",
        "print(\"\\nnumber of incorrect results\")\n",
        "\n",
        "count15 = 0\n",
        "for data in data_synthetic15:\n",
        "  if (data[0] != data[2]):\n",
        "    count15 += 1\n",
        "print(\"15 epochs: \", count15)\n",
        "\n",
        "count30 = 0\n",
        "for data in data_synthetic30:\n",
        "  if (data[0] != data[2]):\n",
        "    count30 += 1\n",
        "print(\"30 epochs: \", count30)"
      ],
      "execution_count": null,
      "outputs": [
        {
          "output_type": "stream",
          "text": [
            "number of data for 15 epochs:  256\n",
            "number of data for 30 epochs:  256\n",
            "\n",
            "number of incorrect results\n",
            "15 epochs:  31\n",
            "30 epochs:  39\n"
          ],
          "name": "stdout"
        }
      ]
    },
    {
      "cell_type": "code",
      "metadata": {
        "id": "-XO04hgfdvWP",
        "colab": {
          "base_uri": "https://localhost:8080/"
        },
        "outputId": "d12d7a39-d4d7-4de1-a39b-e511a5fad825"
      },
      "source": [
        "# Either run this section or the next section.\n",
        "# I saved a set of random data in this section. If run the next section, it will replace this data.\n",
        "\n",
        "data_random=[[1.0, 0.98, 1.0], [1.0, 0.51, 1.0], [1.0, 0.43, 0.0], [1.0, 0.69, 1.0], [1.0, 0.21, 0.0], [1.0, 0.79, 1.0], [1.0, 0.23, 0.0], [1.0, 0.78, 1.0], [1.0, 0.46, 0.0], [1.0, 0.15, 0.0], [1.0, 0.68, 1.0], [1.0, 0.22, 0.0], [1.0, 0.02, 0.0], [1.0, 0.86, 1.0], [1.0, 0.92, 1.0], [1.0, 0.11, 0.0], [1.0, 0.17, 0.0], [1.0, 0.47, 0.0], [1.0, 0.94, 1.0], [1.0, 0.21, 0.0], [1.0, 0.45, 0.0], [1.0, 0.63, 1.0], [1.0, 0.58, 1.0], [1.0, 0.66, 1.0], [1.0, 0.94, 1.0], [1.0, 0.96, 1.0], [1.0, 0.54, 1.0], [1.0, 0.33, 0.0], [1.0, 0.8, 1.0], [1.0, 0.65, 1.0], [1.0, 0.18, 0.0], [1.0, 0.52, 1.0], [1.0, 0.33, 0.0], [1.0, 0.96, 1.0], [1.0, 0.76, 1.0], [1.0, 0.45, 0.0], [1.0, 0.13, 0.0], [1.0, 0.83, 1.0], [1.0, 0.57, 1.0], [1.0, 0.37, 0.0], [1.0, 0.33, 0.0], [1.0, 0.46, 0.0], [1.0, 0.27, 0.0], [1.0, 0.55, 1.0], [1.0, 0.77, 1.0], [1.0, 0.35, 0.0], [1.0, 0.03, 0.0], [1.0, 0.37, 0.0], [1.0, 0.66, 1.0], [1.0, 0.26, 0.0], [1.0, 0.37, 0.0], [1.0, 0.14, 0.0], [1.0, 0.63, 1.0], [1.0, 0.68, 1.0], [1.0, 0.56, 1.0], [1.0, 0.45, 0.0], [1.0, 0.07, 0.0], [1.0, 0.89, 1.0], [1.0, 0.81, 1.0], [1.0, 0.4, 0.0], [1.0, 0.18, 0.0], [1.0, 0.52, 1.0], [1.0, 0.16, 0.0], [1.0, 0.38, 0.0], [1.0, 0.35, 0.0], [1.0, 0.67, 1.0], [1.0, 0.92, 1.0], [1.0, 0.41, 0.0], [1.0, 0.38, 0.0], [1.0, 0.64, 1.0], [1.0, 0.13, 0.0], [1.0, 0.76, 1.0], [1.0, 0.92, 1.0], [1.0, 0.59, 1.0], [1.0, 0.4, 0.0], [1.0, 0.88, 1.0], [1.0, 0.41, 0.0], [1.0, 0.94, 1.0], [1.0, 0.03, 0.0], [1.0, 0.74, 1.0], [1.0, 0.23, 0.0], [1.0, 0.82, 1.0], [1.0, 0.32, 0.0], [1.0, 0.26, 0.0], [1.0, 0.84, 1.0], [1.0, 0.36, 0.0], [1.0, 0.01, 0.0], [1.0, 0.2, 0.0], [1.0, 0.39, 0.0], [1.0, 0.61, 1.0], [1.0, 0.13, 0.0], [1.0, 0.5, 1.0], [1.0, 0.39, 0.0], [1.0, 0.46, 0.0], [1.0, 0.82, 1.0], [1.0, 0.91, 1.0], [1.0, 0.5, 1.0], [1.0, 0.24, 0.0], [1.0, 0.75, 1.0], [1.0, 0.62, 1.0], [1.0, 0.74, 1.0], [1.0, 0.98, 1.0], [1.0, 0.6, 1.0], [1.0, 0.11, 0.0], [1.0, 0.03, 0.0], [1.0, 0.02, 0.0], [1.0, 0.0, 0.0], [1.0, 0.81, 1.0], [1.0, 0.93, 1.0], [1.0, 0.16, 0.0], [1.0, 0.96, 1.0], [1.0, 0.72, 1.0], [1.0, 0.87, 1.0], [1.0, 0.41, 0.0], [1.0, 0.84, 1.0], [1.0, 0.34, 0.0], [1.0, 0.74, 1.0], [1.0, 0.56, 1.0], [1.0, 0.78, 1.0], [1.0, 0.15, 0.0], [1.0, 0.29, 0.0], [1.0, 0.19, 0.0], [1.0, 0.85, 1.0], [1.0, 0.15, 0.0], [1.0, 0.03, 0.0], [1.0, 0.15, 0.0], [1.0, 0.51, 1.0], [1.0, 0.02, 0.0], [0.0, 0.24, 0.0], [0.0, 0.54, 1.0], [0.0, 0.86, 1.0], [0.0, 0.91, 1.0], [0.0, 0.96, 1.0], [0.0, 0.23, 0.0], [0.0, 0.77, 1.0], [0.0, 0.53, 1.0], [0.0, 0.83, 1.0], [0.0, 0.27, 0.0], [0.0, 0.83, 1.0], [0.0, 0.73, 1.0], [0.0, 0.14, 0.0], [0.0, 0.58, 1.0], [0.0, 0.2, 0.0], [0.0, 0.58, 1.0], [0.0, 0.03, 0.0], [0.0, 0.7, 1.0], [0.0, 0.18, 0.0], [0.0, 0.86, 1.0], [0.0, 0.75, 1.0], [0.0, 0.46, 0.0], [0.0, 0.37, 0.0], [0.0, 0.56, 1.0], [0.0, 0.03, 0.0], [0.0, 0.85, 1.0], [0.0, 0.35, 0.0], [0.0, 0.96, 1.0], [0.0, 0.75, 1.0], [0.0, 0.15, 0.0], [0.0, 0.37, 0.0], [0.0, 0.78, 1.0], [0.0, 0.53, 1.0], [0.0, 0.49, 0.0], [0.0, 0.24, 0.0], [0.0, 0.33, 0.0], [0.0, 0.54, 1.0], [0.0, 0.59, 1.0], [0.0, 0.37, 0.0], [0.0, 0.87, 1.0], [0.0, 0.56, 1.0], [0.0, 0.7, 1.0], [0.0, 0.23, 0.0], [0.0, 0.9, 1.0], [0.0, 0.71, 1.0], [0.0, 0.61, 1.0], [0.0, 0.47, 0.0], [0.0, 0.45, 0.0], [0.0, 0.67, 1.0], [0.0, 0.57, 1.0], [0.0, 0.18, 0.0], [0.0, 0.82, 1.0], [0.0, 0.44, 0.0], [0.0, 0.94, 1.0], [0.0, 0.78, 1.0], [0.0, 0.38, 0.0], [0.0, 0.71, 1.0], [0.0, 0.63, 1.0], [0.0, 0.0, 0.0], [0.0, 0.37, 0.0], [0.0, 0.44, 0.0], [0.0, 0.14, 0.0], [0.0, 0.11, 0.0], [0.0, 0.44, 0.0], [0.0, 0.38, 0.0], [0.0, 0.03, 0.0], [0.0, 1.0, 1.0], [0.0, 0.09, 0.0], [0.0, 0.84, 1.0], [0.0, 0.09, 0.0], [0.0, 0.55, 1.0], [0.0, 0.67, 1.0], [0.0, 0.6, 1.0], [0.0, 0.79, 1.0], [0.0, 0.01, 0.0], [0.0, 0.22, 0.0], [0.0, 0.68, 1.0], [0.0, 0.18, 0.0], [0.0, 0.66, 1.0], [0.0, 0.45, 0.0], [0.0, 0.9, 1.0], [0.0, 0.84, 1.0], [0.0, 0.17, 0.0], [0.0, 0.94, 1.0], [0.0, 0.04, 0.0], [0.0, 0.38, 0.0], [0.0, 0.28, 0.0], [0.0, 0.44, 0.0], [0.0, 0.62, 1.0], [0.0, 0.13, 0.0], [0.0, 0.23, 0.0], [0.0, 0.86, 1.0], [0.0, 0.29, 0.0], [0.0, 0.31, 0.0], [0.0, 0.49, 0.0], [0.0, 0.86, 1.0], [0.0, 0.49, 0.0], [0.0, 0.94, 1.0], [0.0, 0.03, 0.0], [0.0, 0.28, 0.0], [0.0, 0.15, 0.0], [0.0, 0.12, 0.0], [0.0, 0.31, 0.0], [0.0, 0.57, 1.0], [0.0, 0.38, 0.0], [0.0, 0.98, 1.0], [0.0, 0.49, 0.0], [0.0, 0.53, 1.0], [0.0, 0.22, 0.0], [0.0, 0.32, 0.0], [0.0, 0.04, 0.0], [0.0, 0.21, 0.0], [0.0, 0.35, 0.0], [0.0, 0.25, 0.0], [0.0, 0.06, 0.0], [0.0, 0.02, 0.0], [0.0, 0.04, 0.0], [0.0, 0.5, 1.0], [0.0, 0.92, 1.0], [0.0, 0.85, 1.0], [0.0, 0.76, 1.0], [0.0, 0.44, 0.0], [0.0, 0.7, 1.0], [0.0, 0.72, 1.0], [0.0, 0.21, 0.0], [0.0, 0.9, 1.0], [0.0, 0.99, 1.0], [0.0, 0.88, 1.0]]\n",
        "print(\"number of data for random results: \", len(data_random))\n",
        "\n",
        "count = 0\n",
        "for data in data_random:\n",
        "  if data[0] != data[2]:\n",
        "    count +=1\n",
        "print(\"number of incorrect results for random data: \", count)"
      ],
      "execution_count": null,
      "outputs": [
        {
          "output_type": "stream",
          "text": [
            "number of data for random results:  256\n",
            "number of incorrect results for random data:  127\n"
          ],
          "name": "stdout"
        }
      ]
    },
    {
      "cell_type": "code",
      "metadata": {
        "colab": {
          "base_uri": "https://localhost:8080/"
        },
        "id": "1Q091MGhYYkt",
        "outputId": "24572207-02bf-42cb-c828-1c0e1d332e98"
      },
      "source": [
        "# used to generate random data (No need to run this section if the previous section is ran)\n",
        "\n",
        "import random\n",
        "\n",
        "data_random=[]\n",
        "\n",
        "def generate_random():\n",
        "  count = 0\n",
        "  for x in range(128):\n",
        "    k = round(random.uniform(0,1), 2)\n",
        "    temp = [1.0, k]\n",
        "    if (k >= 0.5):\n",
        "      data_random.append([1.0, k, 1.0])\n",
        "    else:\n",
        "      data_random.append([1.0, k, 0.0])\n",
        "      count+=1\n",
        "\n",
        "  for x in range(128):\n",
        "    k = round(random.uniform(0,1), 2)\n",
        "    temp = [0.0, k]\n",
        "    if (k >= 0.5):\n",
        "      data_random.append([0.0, k, 1.0])\n",
        "      count+=1\n",
        "    else:\n",
        "      data_random.append([0.0, k, 0.0])\n",
        "  return count\n",
        "\n",
        "count = generate_random()\n",
        "print(data_random)\n",
        "print(\"number of incorrect results for random data: \", count)"
      ],
      "execution_count": null,
      "outputs": [
        {
          "output_type": "stream",
          "text": [
            "[[1.0, 0.98, 1.0], [1.0, 0.51, 1.0], [1.0, 0.43, 0.0], [1.0, 0.69, 1.0], [1.0, 0.21, 0.0], [1.0, 0.79, 1.0], [1.0, 0.23, 0.0], [1.0, 0.78, 1.0], [1.0, 0.46, 0.0], [1.0, 0.15, 0.0], [1.0, 0.68, 1.0], [1.0, 0.22, 0.0], [1.0, 0.02, 0.0], [1.0, 0.86, 1.0], [1.0, 0.92, 1.0], [1.0, 0.11, 0.0], [1.0, 0.17, 0.0], [1.0, 0.47, 0.0], [1.0, 0.94, 1.0], [1.0, 0.21, 0.0], [1.0, 0.45, 0.0], [1.0, 0.63, 1.0], [1.0, 0.58, 1.0], [1.0, 0.66, 1.0], [1.0, 0.94, 1.0], [1.0, 0.96, 1.0], [1.0, 0.54, 1.0], [1.0, 0.33, 0.0], [1.0, 0.8, 1.0], [1.0, 0.65, 1.0], [1.0, 0.18, 0.0], [1.0, 0.52, 1.0], [1.0, 0.33, 0.0], [1.0, 0.96, 1.0], [1.0, 0.76, 1.0], [1.0, 0.45, 0.0], [1.0, 0.13, 0.0], [1.0, 0.83, 1.0], [1.0, 0.57, 1.0], [1.0, 0.37, 0.0], [1.0, 0.33, 0.0], [1.0, 0.46, 0.0], [1.0, 0.27, 0.0], [1.0, 0.55, 1.0], [1.0, 0.77, 1.0], [1.0, 0.35, 0.0], [1.0, 0.03, 0.0], [1.0, 0.37, 0.0], [1.0, 0.66, 1.0], [1.0, 0.26, 0.0], [1.0, 0.37, 0.0], [1.0, 0.14, 0.0], [1.0, 0.63, 1.0], [1.0, 0.68, 1.0], [1.0, 0.56, 1.0], [1.0, 0.45, 0.0], [1.0, 0.07, 0.0], [1.0, 0.89, 1.0], [1.0, 0.81, 1.0], [1.0, 0.4, 0.0], [1.0, 0.18, 0.0], [1.0, 0.52, 1.0], [1.0, 0.16, 0.0], [1.0, 0.38, 0.0], [1.0, 0.35, 0.0], [1.0, 0.67, 1.0], [1.0, 0.92, 1.0], [1.0, 0.41, 0.0], [1.0, 0.38, 0.0], [1.0, 0.64, 1.0], [1.0, 0.13, 0.0], [1.0, 0.76, 1.0], [1.0, 0.92, 1.0], [1.0, 0.59, 1.0], [1.0, 0.4, 0.0], [1.0, 0.88, 1.0], [1.0, 0.41, 0.0], [1.0, 0.94, 1.0], [1.0, 0.03, 0.0], [1.0, 0.74, 1.0], [1.0, 0.23, 0.0], [1.0, 0.82, 1.0], [1.0, 0.32, 0.0], [1.0, 0.26, 0.0], [1.0, 0.84, 1.0], [1.0, 0.36, 0.0], [1.0, 0.01, 0.0], [1.0, 0.2, 0.0], [1.0, 0.39, 0.0], [1.0, 0.61, 1.0], [1.0, 0.13, 0.0], [1.0, 0.5, 1.0], [1.0, 0.39, 0.0], [1.0, 0.46, 0.0], [1.0, 0.82, 1.0], [1.0, 0.91, 1.0], [1.0, 0.5, 1.0], [1.0, 0.24, 0.0], [1.0, 0.75, 1.0], [1.0, 0.62, 1.0], [1.0, 0.74, 1.0], [1.0, 0.98, 1.0], [1.0, 0.6, 1.0], [1.0, 0.11, 0.0], [1.0, 0.03, 0.0], [1.0, 0.02, 0.0], [1.0, 0.0, 0.0], [1.0, 0.81, 1.0], [1.0, 0.93, 1.0], [1.0, 0.16, 0.0], [1.0, 0.96, 1.0], [1.0, 0.72, 1.0], [1.0, 0.87, 1.0], [1.0, 0.41, 0.0], [1.0, 0.84, 1.0], [1.0, 0.34, 0.0], [1.0, 0.74, 1.0], [1.0, 0.56, 1.0], [1.0, 0.78, 1.0], [1.0, 0.15, 0.0], [1.0, 0.29, 0.0], [1.0, 0.19, 0.0], [1.0, 0.85, 1.0], [1.0, 0.15, 0.0], [1.0, 0.03, 0.0], [1.0, 0.15, 0.0], [1.0, 0.51, 1.0], [1.0, 0.02, 0.0], [0.0, 0.24, 0.0], [0.0, 0.54, 1.0], [0.0, 0.86, 1.0], [0.0, 0.91, 1.0], [0.0, 0.96, 1.0], [0.0, 0.23, 0.0], [0.0, 0.77, 1.0], [0.0, 0.53, 1.0], [0.0, 0.83, 1.0], [0.0, 0.27, 0.0], [0.0, 0.83, 1.0], [0.0, 0.73, 1.0], [0.0, 0.14, 0.0], [0.0, 0.58, 1.0], [0.0, 0.2, 0.0], [0.0, 0.58, 1.0], [0.0, 0.03, 0.0], [0.0, 0.7, 1.0], [0.0, 0.18, 0.0], [0.0, 0.86, 1.0], [0.0, 0.75, 1.0], [0.0, 0.46, 0.0], [0.0, 0.37, 0.0], [0.0, 0.56, 1.0], [0.0, 0.03, 0.0], [0.0, 0.85, 1.0], [0.0, 0.35, 0.0], [0.0, 0.96, 1.0], [0.0, 0.75, 1.0], [0.0, 0.15, 0.0], [0.0, 0.37, 0.0], [0.0, 0.78, 1.0], [0.0, 0.53, 1.0], [0.0, 0.49, 0.0], [0.0, 0.24, 0.0], [0.0, 0.33, 0.0], [0.0, 0.54, 1.0], [0.0, 0.59, 1.0], [0.0, 0.37, 0.0], [0.0, 0.87, 1.0], [0.0, 0.56, 1.0], [0.0, 0.7, 1.0], [0.0, 0.23, 0.0], [0.0, 0.9, 1.0], [0.0, 0.71, 1.0], [0.0, 0.61, 1.0], [0.0, 0.47, 0.0], [0.0, 0.45, 0.0], [0.0, 0.67, 1.0], [0.0, 0.57, 1.0], [0.0, 0.18, 0.0], [0.0, 0.82, 1.0], [0.0, 0.44, 0.0], [0.0, 0.94, 1.0], [0.0, 0.78, 1.0], [0.0, 0.38, 0.0], [0.0, 0.71, 1.0], [0.0, 0.63, 1.0], [0.0, 0.0, 0.0], [0.0, 0.37, 0.0], [0.0, 0.44, 0.0], [0.0, 0.14, 0.0], [0.0, 0.11, 0.0], [0.0, 0.44, 0.0], [0.0, 0.38, 0.0], [0.0, 0.03, 0.0], [0.0, 1.0, 1.0], [0.0, 0.09, 0.0], [0.0, 0.84, 1.0], [0.0, 0.09, 0.0], [0.0, 0.55, 1.0], [0.0, 0.67, 1.0], [0.0, 0.6, 1.0], [0.0, 0.79, 1.0], [0.0, 0.01, 0.0], [0.0, 0.22, 0.0], [0.0, 0.68, 1.0], [0.0, 0.18, 0.0], [0.0, 0.66, 1.0], [0.0, 0.45, 0.0], [0.0, 0.9, 1.0], [0.0, 0.84, 1.0], [0.0, 0.17, 0.0], [0.0, 0.94, 1.0], [0.0, 0.04, 0.0], [0.0, 0.38, 0.0], [0.0, 0.28, 0.0], [0.0, 0.44, 0.0], [0.0, 0.62, 1.0], [0.0, 0.13, 0.0], [0.0, 0.23, 0.0], [0.0, 0.86, 1.0], [0.0, 0.29, 0.0], [0.0, 0.31, 0.0], [0.0, 0.49, 0.0], [0.0, 0.86, 1.0], [0.0, 0.49, 0.0], [0.0, 0.94, 1.0], [0.0, 0.03, 0.0], [0.0, 0.28, 0.0], [0.0, 0.15, 0.0], [0.0, 0.12, 0.0], [0.0, 0.31, 0.0], [0.0, 0.57, 1.0], [0.0, 0.38, 0.0], [0.0, 0.98, 1.0], [0.0, 0.49, 0.0], [0.0, 0.53, 1.0], [0.0, 0.22, 0.0], [0.0, 0.32, 0.0], [0.0, 0.04, 0.0], [0.0, 0.21, 0.0], [0.0, 0.35, 0.0], [0.0, 0.25, 0.0], [0.0, 0.06, 0.0], [0.0, 0.02, 0.0], [0.0, 0.04, 0.0], [0.0, 0.5, 1.0], [0.0, 0.92, 1.0], [0.0, 0.85, 1.0], [0.0, 0.76, 1.0], [0.0, 0.44, 0.0], [0.0, 0.7, 1.0], [0.0, 0.72, 1.0], [0.0, 0.21, 0.0], [0.0, 0.9, 1.0], [0.0, 0.99, 1.0], [0.0, 0.88, 1.0]]\n",
            "127\n"
          ],
          "name": "stdout"
        }
      ]
    },
    {
      "cell_type": "code",
      "metadata": {
        "id": "oz8Pf6Zyh2nK"
      },
      "source": [
        "# separate the 3 data information into 3 arrays\n",
        "def separate_y(datas):\n",
        "  y = []\n",
        "  yhat_prob = []\n",
        "  yhat_pred = []\n",
        "  count=0\n",
        "  for data in datas:\n",
        "    y.append(data[0])\n",
        "    yhat_prob.append(data[1])\n",
        "    yhat_pred.append(data[2])\n",
        "\n",
        "  return y, yhat_prob, yhat_pred"
      ],
      "execution_count": null,
      "outputs": []
    },
    {
      "cell_type": "markdown",
      "metadata": {
        "id": "xmX3dSoeXYkE"
      },
      "source": [
        "(2) What metrics are you using to evaluate your model, and why?\n",
        "\n",
        "Before evaluating my model, there are a couple of things to take note in order to choose better metrics. First, I would only be looking into metrics that are used for binary classification problems. Second, it is important to note that my datasets are balanced (there's 128 humans and 128 horses). Lastly, both class are as equally important.\n",
        "\n",
        "Below are the metrics that I used:\n",
        "- Accuracy: Accuracy measures observations that are correctly classified (for both humans and horses). Since I have a balanced dataset and take both class as equally importance, I would not have to worry for bias observations.\n",
        "- F1 Score: F1 score is a weighted harmonic mean of precision and recall. Since both class are equally important, I only used beta=1 (the default value).\n",
        "- Hinge Loss: This is an alternative to cross-entropy for binary classification problem. It will calculate the average distance between model and data, while considering only prediction errors. (Though, it is more commonly used in SVM)\n",
        "- Log Loss: Logistic regression loss (or cross-entropy loss) is the classic loss function that are used in binary classification problem. It calculates the difference between true layer y and predicted score for each observation. It then average those errors across all prediction.\n",
        "- Brier Score: This measures accuracy of probabilistic predictions and return mean squared error of y versus yhat. The lower the brier score, the more accurate the prediction is.\n",
        "- ROC curve and ROC AUC score: The reason I pick ROC curve and ROC AUC score is because I care equally about both classes. In addition, due to the balanced dataset, this is preferable over the precision and recall score."
      ]
    },
    {
      "cell_type": "code",
      "metadata": {
        "id": "aHtEYDBVPVlE"
      },
      "source": [
        "# sklearn metrics\n",
        "import numpy as np\n",
        "from sklearn import metrics\n",
        "import matplotlib.pyplot as plt\n",
        "\n",
        "def ROC_curve(y, yhat_prob):\n",
        "  #   TPR (true positive rate) also known as sensitivity\n",
        "  #   FPR (false positive rate) is one minus the specificity or TN rate\n",
        "  fpr, tpr, thresholds = metrics.roc_curve(y, yhat_prob)\n",
        "  roc_auc = metrics.auc(fpr, tpr)\n",
        "  print(\"Area under the receiver operating characteristic curve (ROC AUC): \", roc_auc)\n",
        "\n",
        "  # plot for ROC curve\n",
        "  plt.title('Receiver Operating Characteristic')\n",
        "  plt.plot(fpr, tpr, 'b', label = 'AUC = %0.2f' % roc_auc)\n",
        "  plt.legend(loc = 'lower right')\n",
        "  plt.plot([0, 1], [0, 1],'r--')\n",
        "  plt.xlim([0, 1])\n",
        "  plt.ylim([0, 1])\n",
        "  plt.ylabel('True Positive Rate')\n",
        "  plt.xlabel('False Positive Rate')\n",
        "  plt.show()\n",
        "\n",
        "\n",
        "def runMetrics(dataset1, dataset2, dataset3):\n",
        "  y1, yhat_prob1, yhat_pred1 = separate_y(dataset1)\n",
        "  y2, yhat_prob2, yhat_pred2 = separate_y(dataset2)\n",
        "  y3, yhat_prob3, yhat_pred3 = separate_y(dataset3)\n",
        "\n",
        "  print(\"----------- using sklearn evaluation metrics -----------\")\n",
        "  conf = metrics.confusion_matrix(y1, yhat_pred1)\n",
        "  print(\"Confusion Matrix for Dataset 1: \\n\", conf)\n",
        "  conf = metrics.confusion_matrix(y2, yhat_pred2)\n",
        "  print(\"Confusion Matrix for Dataset 2: \\n\", conf)\n",
        "  conf = metrics.confusion_matrix(y3, yhat_pred3)\n",
        "  print(\"Confusion Matrix for Dataset 3: \\n\", conf)\n",
        "\n",
        "  acc = metrics.accuracy_score(y1, yhat_pred1)\n",
        "  print(\"\\nAccuracy Score for Dataset 1: \", acc)\n",
        "  acc = metrics.accuracy_score(y2, yhat_pred2)\n",
        "  print(\"Accuracy Score for Dataset 2: \", acc)\n",
        "  acc = metrics.accuracy_score(y3, yhat_pred3)\n",
        "  print(\"Accuracy Score for Dataset 3: \", acc)\n",
        "\n",
        "  avg_prescision = metrics.average_precision_score(y1, yhat_prob1)\n",
        "  print(\"\\nAverage Precision Score for Dataset 1: \", avg_prescision)\n",
        "  avg_prescision = metrics.average_precision_score(y2, yhat_prob2)\n",
        "  print(\"Average Precision Score for Dataset 2: \", avg_prescision)\n",
        "  avg_prescision = metrics.average_precision_score(y3, yhat_prob3)\n",
        "  print(\"Average Precision Score for Dataset 3: \", avg_prescision)\n",
        "\n",
        "  class_report = metrics.classification_report(y1, yhat_pred1, target_names=[\"class 0\", \"class 1\"])\n",
        "  print(\"\\nClassification Report for Dataset 1: \\n\", class_report)\n",
        "  class_report = metrics.classification_report(y2, yhat_pred2, target_names=[\"class 0\", \"class 1\"])\n",
        "  print(\"\\nClassification Report for Dataset 2: \\n\", class_report)\n",
        "  class_report = metrics.classification_report(y3, yhat_pred3, target_names=[\"class 0\", \"class 1\"])\n",
        "  print(\"\\nClassification Report for Dataset 3: \\n\", class_report)\n",
        "\n",
        "  f1 = metrics.f1_score(y1, yhat_pred1)\n",
        "  print(\"\\nF1 Score for Dataset 1: \", f1)\n",
        "  f1 = metrics.f1_score(y2, yhat_pred2)\n",
        "  print(\"F1 Score for Dataset 2: \", f1)\n",
        "  f1 = metrics.f1_score(y3, yhat_pred3)\n",
        "  print(\"F1 Score for Dataset 3: \", f1)\n",
        "\n",
        "  hinge = metrics.hinge_loss(y1, yhat_prob1)\n",
        "  print(\"\\nHinge Loss for Dataset 1: \", hinge)\n",
        "  hinge = metrics.hinge_loss(y2, yhat_prob2)\n",
        "  print(\"Hinge Loss for Dataset 2: \", hinge)\n",
        "  hinge = metrics.hinge_loss(y3, yhat_prob3)\n",
        "  print(\"Hinge Loss for Dataset 3: \", hinge)\n",
        "\n",
        "  logloss = metrics.log_loss(y1, yhat_prob1)\n",
        "  print(\"\\nLogistic Loss or Cross-Entropy Loss for Dataset 1: \", logloss)\n",
        "  logloss = metrics.log_loss(y2, yhat_prob2)\n",
        "  print(\"Logistic Loss or Cross-Entropy Loss for Dataset 2: \", logloss)\n",
        "  logloss = metrics.log_loss(y3, yhat_prob3)\n",
        "  print(\"Logistic Loss or Cross-Entropy Loss for Dataset 3: \", logloss)\n",
        "\n",
        "  brier = metrics.brier_score_loss(y1, yhat_prob1)\n",
        "  print(\"\\nBrier Score Loss for Dataset 1: \", brier)\n",
        "  brier = metrics.brier_score_loss(y2, yhat_prob2)\n",
        "  print(\"Brier Score Loss for Dataset 2: \", brier)\n",
        "  brier = metrics.brier_score_loss(y3, yhat_prob3)\n",
        "  print(\"Brier Score Loss for Dataset 3: \", brier)\n",
        "\n",
        "  print(\"\\nDataset 1: \")\n",
        "  ROC_curve(y1, yhat_prob1)\n",
        "  print(\"\\nDataset 2: \")\n",
        "  ROC_curve(y2, yhat_prob2)\n",
        "  print(\"\\nDataset 3: \")\n",
        "  ROC_curve(y3, yhat_prob3)\n"
      ],
      "execution_count": null,
      "outputs": []
    },
    {
      "cell_type": "markdown",
      "metadata": {
        "id": "rqRDnvMaXhAW"
      },
      "source": [
        "(3) Show your results and evaluation."
      ]
    },
    {
      "cell_type": "code",
      "metadata": {
        "colab": {
          "base_uri": "https://localhost:8080/",
          "height": 1000
        },
        "id": "Hu-kKPphINPO",
        "outputId": "a397c176-dc21-47a0-aa98-dc1afaec1c63"
      },
      "source": [
        "print(\"Dataset 1: synthetic data with 15 epochs\")\n",
        "print(\"Dataset 2: synthetic data with 30 epochs\")\n",
        "print(\"Dataset 3: random data\")\n",
        "print()\n",
        "\n",
        "runMetrics(data_synthetic15, data_synthetic30, data_random)"
      ],
      "execution_count": null,
      "outputs": [
        {
          "output_type": "stream",
          "text": [
            "Dataset 1: synthetic data with 15 epochs\n",
            "Dataset 2: synthetic data with 30 epochs\n",
            "Dataset 3: random data\n",
            "\n",
            "----------- using sklearn evaluation metrics -----------\n",
            "Confusion Matrix for Dataset 1: \n",
            " [[100  28]\n",
            " [  3 125]]\n",
            "Confusion Matrix for Dataset 2: \n",
            " [[ 91  37]\n",
            " [  2 126]]\n",
            "Confusion Matrix for Dataset 3: \n",
            " [[66 62]\n",
            " [65 63]]\n",
            "\n",
            "Accuracy Score for Dataset 1:  0.87890625\n",
            "Accuracy Score for Dataset 2:  0.84765625\n",
            "Accuracy Score for Dataset 3:  0.50390625\n",
            "\n",
            "Average Precision Score for Dataset 1:  0.812008486190175\n",
            "Average Precision Score for Dataset 2:  0.7687404141104295\n",
            "Average Precision Score for Dataset 3:  0.5005412697021979\n",
            "\n",
            "Classification Report for Dataset 1: \n",
            "               precision    recall  f1-score   support\n",
            "\n",
            "     class 0       0.97      0.78      0.87       128\n",
            "     class 1       0.82      0.98      0.89       128\n",
            "\n",
            "    accuracy                           0.88       256\n",
            "   macro avg       0.89      0.88      0.88       256\n",
            "weighted avg       0.89      0.88      0.88       256\n",
            "\n",
            "\n",
            "Classification Report for Dataset 2: \n",
            "               precision    recall  f1-score   support\n",
            "\n",
            "     class 0       0.98      0.71      0.82       128\n",
            "     class 1       0.77      0.98      0.87       128\n",
            "\n",
            "    accuracy                           0.85       256\n",
            "   macro avg       0.88      0.85      0.84       256\n",
            "weighted avg       0.88      0.85      0.84       256\n",
            "\n",
            "\n",
            "Classification Report for Dataset 3: \n",
            "               precision    recall  f1-score   support\n",
            "\n",
            "     class 0       0.50      0.52      0.51       128\n",
            "     class 1       0.50      0.49      0.50       128\n",
            "\n",
            "    accuracy                           0.50       256\n",
            "   macro avg       0.50      0.50      0.50       256\n",
            "weighted avg       0.50      0.50      0.50       256\n",
            "\n",
            "\n",
            "F1 Score for Dataset 1:  0.8896797153024911\n",
            "F1 Score for Dataset 2:  0.865979381443299\n",
            "F1 Score for Dataset 3:  0.4980237154150197\n",
            "\n",
            "Hinge Loss for Dataset 1:  0.6210937500007601\n",
            "Hinge Loss for Dataset 2:  0.65234375\n",
            "Hinge Loss for Dataset 3:  0.9999999999999998\n",
            "\n",
            "Logistic Loss or Cross-Entropy Loss for Dataset 1:  4.182517410040904\n",
            "Logistic Loss or Cross-Entropy Loss for Dataset 2:  5.261882283228258\n",
            "Logistic Loss or Cross-Entropy Loss for Dataset 3:  1.2255624266481608\n",
            "\n",
            "Brier Score Loss for Dataset 1:  0.12109375\n",
            "Brier Score Loss for Dataset 2:  0.15234375\n",
            "Brier Score Loss for Dataset 3:  0.3326\n",
            "\n",
            "Dataset 1: \n",
            "Area under the receiver operating characteristic curve (ROC AUC):  0.8818359375\n"
          ],
          "name": "stdout"
        },
        {
          "output_type": "display_data",
          "data": {
            "image/png": "[encoded data removed]",
            "text/plain": [
              "<Figure size 432x288 with 1 Axes>"
            ]
          },
          "metadata": {
            "tags": [],
            "needs_background": "light"
          }
        },
        {
          "output_type": "stream",
          "text": [
            "\n",
            "Dataset 2: \n",
            "Area under the receiver operating characteristic curve (ROC AUC):  0.84759521484375\n"
          ],
          "name": "stdout"
        },
        {
          "output_type": "display_data",
          "data": {
            "image/png": "[encoded data removed]",
            "text/plain": [
              "<Figure size 432x288 with 1 Axes>"
            ]
          },
          "metadata": {
            "tags": [],
            "needs_background": "light"
          }
        },
        {
          "output_type": "stream",
          "text": [
            "\n",
            "Dataset 3: \n",
            "Area under the receiver operating characteristic curve (ROC AUC):  0.499114990234375\n"
          ],
          "name": "stdout"
        },
        {
          "output_type": "display_data",
          "data": {
            "image/png": "[encoded data removed]",
            "text/plain": [
              "<Figure size 432x288 with 1 Axes>"
            ]
          },
          "metadata": {
            "tags": [],
            "needs_background": "light"
          }
        }
      ]
    },
    {
      "cell_type": "markdown",
      "metadata": {
        "id": "HYxSSaJIy9bi"
      },
      "source": [
        "Evaluation & Conclusions:\n",
        "- The reason I decide not to use the confusion matrix metrics (False positive rate, false negative rate, specificity, recall, precision etc.) is because I am treating both class as equally important (Rather than a postivie versus negative classification).\n",
        "- From the metrics, we can see that synthetic data with 15 epochs is the best model (as compared to 30 epochs that are overfitting and random data that is way too off in predictions).\n",
        "- One evaluation that I would like to point out here is the Log Loss. 15 epoch data show log loss as 4.18, 30 epoch data show log loss as 5.26, whereas the random data show log loss as 1.23. The reason behind this is that most of the predicted probability values in 15 epoch and 30 epochs are either 0, 1, or very close to either. Thus, the error (difference of y versus yhat) would be high whenever there's a wrong prediction. On the other hand, the random generator will generate real number between 0 and 1, which causes the error to be lower when added up across all incorrect predictions. When I use yhat_class (predicted class instead of predicted probability), random dataset shows log loss value of 17."
      ]
    }
  ]
}