{
  "nbformat": 4,
  "nbformat_minor": 0,
  "metadata": {
    "colab": {
      "name": "data_metrics.ipynb",
      "provenance": [],
      "collapsed_sections": [],
      "authorship_tag": "ABX9TyO6z+q0J4Bs9YrzZMYc0SCr",
      "include_colab_link": true
    },
    "kernelspec": {
      "name": "python3",
      "display_name": "Python 3"
    }
  },
  "cells": [
    {
      "cell_type": "markdown",
      "metadata": {
        "id": "view-in-github",
        "colab_type": "text"
      },
      "source": [
        "<a href=\"https://colab.research.google.com/github/Yuan325/CSCI6364_MachineLearning/blob/main/TH_Q1/data_metrics.ipynb\" target=\"_parent\"><img src=\"https://colab.research.google.com/assets/colab-badge.svg\" alt=\"Open In Colab\"/></a>"
      ]
    },
    {
      "cell_type": "markdown",
      "metadata": {
        "id": "oA2iIJPZXCoJ"
      },
      "source": [
        "TH_Q1B\n",
        "\n",
        "*   Design a classification problem\n",
        "*   Provide synthetic statistic for the data and model results\n",
        "*   Use the appropriate metrics and explain the results\n",
        "\n",
        "Metrics for classification: \n",
        "\n",
        "* Precision-Recall\n",
        "* Sensitivity / Specificity\n",
        "* ROC-AUC\n",
        "* Accuracy\n",
        "* Log-loss\n"
      ]
    },
    {
      "cell_type": "code",
      "metadata": {
        "id": "pKwmuwiDXES-"
      },
      "source": [
        ""
      ],
      "execution_count": null,
      "outputs": []
    }
  ]
}