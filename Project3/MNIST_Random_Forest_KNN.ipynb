{
  "nbformat": 4,
  "nbformat_minor": 0,
  "metadata": {
    "accelerator": "GPU",
    "colab": {
      "name": "[Project 3] MNIST_Random Forest_KNN.ipynb",
      "provenance": [],
      "collapsed_sections": [
        "uqCP63VdxJZw",
        "wxTKFnahvpYk"
      ],
      "authorship_tag": "ABX9TyP7+Rg6NfY67ZLcxiHw+mIe",
      "include_colab_link": true
    },
    "kernelspec": {
      "display_name": "Python 3",
      "name": "python3"
    },
    "language_info": {
      "name": "python"
    }
  },
  "cells": [
    {
      "cell_type": "markdown",
      "metadata": {
        "id": "view-in-github",
        "colab_type": "text"
      },
      "source": [
        "<a href=\"https://colab.research.google.com/github/Yuan325/CSCI6364_MachineLearning/blob/main/Project3/MNIST_Random_Forest_KNN.ipynb\" target=\"_parent\"><img src=\"https://colab.research.google.com/assets/colab-badge.svg\" alt=\"Open In Colab\"/></a>"
      ]
    },
    {
      "cell_type": "markdown",
      "metadata": {
        "id": "uqCP63VdxJZw"
      },
      "source": [
        "# Shared Code between Random Forest and KNN"
      ]
    },
    {
      "cell_type": "code",
      "metadata": {
        "id": "-Vw3gfjRzBkq"
      },
      "source": [
        "import csv\n",
        "import numpy as np\n",
        "from google.colab.patches import cv2_imshow\n",
        "from math import *\n",
        "import random\n",
        "import matplotlib.pyplot as plt\n",
        "import time\n",
        "import copy"
      ],
      "execution_count": 1,
      "outputs": []
    },
    {
      "cell_type": "code",
      "metadata": {
        "id": "QUQwqy6LuyWA"
      },
      "source": [
        "from google.colab import files\n",
        "\n",
        "files.upload() # upload data file"
      ],
      "execution_count": null,
      "outputs": []
    },
    {
      "cell_type": "code",
      "metadata": {
        "id": "0vz152CIxOD8"
      },
      "source": [
        "# evaluation functions\n",
        "\n",
        "def confusionMatrix(y, yhat, n):\n",
        "  mat = np.zeros((n, n))\n",
        "  for y_val, yhat_val in zip(y, yhat):\n",
        "    mat[y_val][yhat_val] += 1\n",
        "  print(mat)\n",
        "  return mat\n",
        "\n",
        "def confusionValues(mat, index):\n",
        "  tn = fp = fn = tp = 0\n",
        "  tp = mat[index][index]\n",
        "  for i in range(len(mat)): # truth value\n",
        "    for j in range(len(mat)): #prediction value\n",
        "      if i == index and j != index:\n",
        "        fn += mat[i][j]\n",
        "      elif i != index and j == index:\n",
        "        fp += mat[i][j]\n",
        "      elif i != index and j!= index:\n",
        "        tn += mat[i][j]\n",
        "  return tn, fp, fn, tp\n",
        "\n",
        "def accuracy(tn, fp, fn, tp):\n",
        "  return (tp + tn)/(tp+tn+fp+fn)\n",
        "\n",
        "def sensitivity(tn, fp, fn, tp):\n",
        "  return tp/(tp+fn)\n",
        "\n",
        "def specificity(tn, fp, fn, tp):\n",
        "  return tn/(tn+fp)\n",
        "\n",
        "def pos_pred_val(tn, fp, fn, tp):\n",
        "  return tp/(tp+fp)\n",
        "\n",
        "def false_positive_rate(tn, fp, fn, tp):\n",
        "  return fp/(tn+fp)\n",
        "\n",
        "def f1score(tn, fp, fn, tp):\n",
        "  return 2*tp/(2*tp + fp + fn)\n",
        "\n",
        "def runEval(y, yhat, n, index):\n",
        "  mat = confusionMatrix(y, yhat, n)\n",
        "  tn, fp, fn, tp = confusionValues(mat, index)\n",
        "  print(\"TN: \", tn, \"\\tFP: \", fp, \"\\nFN: \", fn, \"\\tTP: \", tp)\n",
        "  print(\"Accuracy: \", accuracy(tn, fp, fn, tp))\n",
        "  print(\"Sensitivity: \", sensitivity(tn, fp, fn, tp))\n",
        "  print(\"Specificity: \", specificity(tn, fp, fn, tp))\n",
        "  print(\"Positive Predictive Value: \", pos_pred_val(tn, fp, fn, tp))\n",
        "  print(\"False Positive Rate: \", false_positive_rate(tn, fp, fn, tp))\n",
        "  print(\"F1 Score: \", f1score(tn, fp, fn, tp))"
      ],
      "execution_count": 3,
      "outputs": []
    },
    {
      "cell_type": "code",
      "metadata": {
        "id": "clP6f4I7xbGU"
      },
      "source": [
        "def printScatterplot(x1, x2, name1=\"Data 1\", name2 = \"Data 2\"):\n",
        "  plt.style.use('seaborn-whitegrid')\n",
        "  plt.plot(x1, x2, 'o')\n",
        "  plt.xlabel(name1)\n",
        "  plt.ylabel(name2)\n",
        "  plt.show()"
      ],
      "execution_count": 4,
      "outputs": []
    },
    {
      "cell_type": "code",
      "metadata": {
        "id": "kl7xIXBizSdY"
      },
      "source": [
        "def printSample(train_x, train_y):\n",
        "  ro = np.zeros((28, 28, 3))\n",
        "  for n in range(10):\n",
        "    for index in range(len(train_y)):\n",
        "      if n == train_y[index]:\n",
        "        for i in range(0, 27):\n",
        "          for j in range(0, 27):\n",
        "            ro[i,j,0] = train_x[index, j+i*28]\n",
        "            ro[i,j,1] = train_x[index, j+i*28]\n",
        "            ro[i,j,2] = train_x[index, j+i*28]\n",
        "        cv2_imshow(ro)\n",
        "        print()\n",
        "        break\n",
        "\n",
        "def readyData():\n",
        "  reader = csv.reader(open('/content/MNIST.csv', 'r'))\n",
        "  header = next(reader)\n",
        "  data=[]\n",
        "\n",
        "  for row in reader: \n",
        "    data.append(row)\n",
        "  data = np.array(data)\n",
        "  data = data.astype(np.int)\n",
        "  np.random.shuffle(data)\n",
        "  data_x = data[:, 1:]\n",
        "  data_y = data[:, 0]\n",
        "\n",
        "  printSample(data_x, data_y)\n",
        "  return data_x, data_y"
      ],
      "execution_count": 5,
      "outputs": []
    },
    {
      "cell_type": "markdown",
      "metadata": {
        "id": "BzT6QCyMxTTY"
      },
      "source": [
        "# Random Forest"
      ]
    },
    {
      "cell_type": "code",
      "metadata": {
        "colab": {
          "base_uri": "https://localhost:8080/",
          "height": 467
        },
        "id": "OZ11ISfay6z8",
        "outputId": "d0bdf4d7-6ffc-4af4-c8f7-c6b98b43708e"
      },
      "source": [
        "data_x, data_y = readyData()\n",
        "  \n",
        "split = 10000\n",
        "split2 = 33600\n",
        "\n",
        "train_x = data_x[:split, :]\n",
        "train_y = data_y[:split]\n",
        "test_x = data_x[split2:, :]\n",
        "test_y = data_y[split2:]"
      ],
      "execution_count": 7,
      "outputs": [
        {
          "output_type": "display_data",
          "data": {
            "image/png": "[encoded data removed]",
            "text/plain": [
              "<PIL.Image.Image image mode=RGB size=28x28 at 0x7F57B3A712D0>"
            ]
          },
          "metadata": {
            "tags": []
          }
        },
        {
          "output_type": "stream",
          "text": [
            "\n"
          ],
          "name": "stdout"
        },
        {
          "output_type": "display_data",
          "data": {
            "image/png": "[encoded data removed]",
            "text/plain": [
              "<PIL.Image.Image image mode=RGB size=28x28 at 0x7F579B5B7350>"
            ]
          },
          "metadata": {
            "tags": []
          }
        },
        {
          "output_type": "stream",
          "text": [
            "\n"
          ],
          "name": "stdout"
        },
        {
          "output_type": "display_data",
          "data": {
            "image/png": "[encoded data removed]",
            "text/plain": [
              "<PIL.Image.Image image mode=RGB size=28x28 at 0x7F579B5B7350>"
            ]
          },
          "metadata": {
            "tags": []
          }
        },
        {
          "output_type": "stream",
          "text": [
            "\n"
          ],
          "name": "stdout"
        },
        {
          "output_type": "display_data",
          "data": {
            "image/png": "[encoded data removed]",
            "text/plain": [
              "<PIL.Image.Image image mode=RGB size=28x28 at 0x7F57B3A710D0>"
            ]
          },
          "metadata": {
            "tags": []
          }
        },
        {
          "output_type": "stream",
          "text": [
            "\n"
          ],
          "name": "stdout"
        },
        {
          "output_type": "display_data",
          "data": {
            "image/png": "[encoded data removed]",
            "text/plain": [
              "<PIL.Image.Image image mode=RGB size=28x28 at 0x7F57B3A711D0>"
            ]
          },
          "metadata": {
            "tags": []
          }
        },
        {
          "output_type": "stream",
          "text": [
            "\n"
          ],
          "name": "stdout"
        },
        {
          "output_type": "display_data",
          "data": {
            "image/png": "[encoded data removed]",
            "text/plain": [
              "<PIL.Image.Image image mode=RGB size=28x28 at 0x7F579B5B75D0>"
            ]
          },
          "metadata": {
            "tags": []
          }
        },
        {
          "output_type": "stream",
          "text": [
            "\n"
          ],
          "name": "stdout"
        },
        {
          "output_type": "display_data",
          "data": {
            "image/png": "[encoded data removed]",
            "text/plain": [
              "<PIL.Image.Image image mode=RGB size=28x28 at 0x7F579B5B7790>"
            ]
          },
          "metadata": {
            "tags": []
          }
        },
        {
          "output_type": "stream",
          "text": [
            "\n"
          ],
          "name": "stdout"
        },
        {
          "output_type": "display_data",
          "data": {
            "image/png": "[encoded data removed]",
            "text/plain": [
              "<PIL.Image.Image image mode=RGB size=28x28 at 0x7F579B5B7810>"
            ]
          },
          "metadata": {
            "tags": []
          }
        },
        {
          "output_type": "stream",
          "text": [
            "\n"
          ],
          "name": "stdout"
        },
        {
          "output_type": "display_data",
          "data": {
            "image/png": "[encoded data removed]",
            "text/plain": [
              "<PIL.Image.Image image mode=RGB size=28x28 at 0x7F579B5B7690>"
            ]
          },
          "metadata": {
            "tags": []
          }
        },
        {
          "output_type": "stream",
          "text": [
            "\n"
          ],
          "name": "stdout"
        },
        {
          "output_type": "display_data",
          "data": {
            "image/png": "[encoded data removed]",
            "text/plain": [
              "<PIL.Image.Image image mode=RGB size=28x28 at 0x7F579B5B7750>"
            ]
          },
          "metadata": {
            "tags": []
          }
        },
        {
          "output_type": "stream",
          "text": [
            "\n"
          ],
          "name": "stdout"
        }
      ]
    },
    {
      "cell_type": "code",
      "metadata": {
        "id": "9sGOiGSm0XtB"
      },
      "source": [
        "class RandomForest:\n",
        "  def __init__(self, sample_n, tree_n, feature_n, min_leaf, max_depth, class_n, min_split):\n",
        "    self.sampleN = sample_n\n",
        "    self.treeN = tree_n\n",
        "    self.featureN = feature_n\n",
        "    self.min_leaf = min_leaf \n",
        "    self.max_depth = max_depth\n",
        "    self.class_n = class_n\n",
        "    self.min_split = min_split\n",
        "    self.trees = []\n",
        "  \n",
        "  def fit(self, train_x, train_y):\n",
        "    while len(self.trees) != self.treeN:\n",
        "      tree = self.create_tree(train_x, train_y)\n",
        "      if tree != None: \n",
        "        self.trees.append(tree) \n",
        "\n",
        "  def create_tree(self, train_x, train_y):\n",
        "    sample_x, sample_y = self.getSample(train_x, train_y)\n",
        "    new_t = DecisionTree(self.class_n, self.getFeatures(train_x), self.max_depth, self.max_depth, self.min_leaf, self.min_split, sample_x, sample_y)\n",
        "    temp = new_t.runTree()\n",
        "    return new_t if temp != False else None\n",
        "  \n",
        "  def predict(self, xs):\n",
        "    final_pred = []\n",
        "    for x in xs:\n",
        "      pred = [t.predict(x) for t in self.trees]\n",
        "      most_common = max(pred, key = pred.count)\n",
        "      final_pred.append(most_common)\n",
        "    return final_pred\n",
        "\n",
        "  def getSample(self, train_x, train_y):\n",
        "    idx = np.random.choice(train_x.shape[0], size=self.sampleN)\n",
        "    return train_x[idx,:], train_y[idx]\n",
        "\n",
        "  def getFeatures(self, train_x):\n",
        "    return random.sample(range(0,len(train_x[0])), self.featureN)"
      ],
      "execution_count": 8,
      "outputs": []
    },
    {
      "cell_type": "code",
      "metadata": {
        "id": "08PQhuBtP397"
      },
      "source": [
        "class DecisionTree:\n",
        "  def __init__(self, class_n, features, depth, max_depth, leaf, min_split, sample_x, sample_y):\n",
        "    self.class_n = class_n\n",
        "    self.features = features\n",
        "    self.depth = depth\n",
        "    self.max_depth = max_depth\n",
        "    self.leaf = leaf\n",
        "    self.min_split = min_split\n",
        "    self.xs = sample_x\n",
        "    self.ys = sample_y\n",
        "    self.res = None\n",
        "\n",
        "  def runTree(self):\n",
        "    if self.depth <= 0 or len(self.xs) < self.leaf:\n",
        "      return self.calculateResult() if self.depth != self.max_depth else False\n",
        "    res = self.getFeature()\n",
        "    return res\n",
        "\n",
        "  def calculateResult(self):\n",
        "    self.res = np.bincount(self.ys).argmax()\n",
        "    print(self.res, \" \", self.depth)\n",
        "    return self.res\n",
        "\n",
        "  def getFeature(self):\n",
        "    self.gini_score = float('inf')\n",
        "    for f in self.features:\n",
        "      set_x =np.unique(self.xs[:, f])\n",
        "      if len(set_x) > 1:\n",
        "        split_value, cur_gini = self.getSplit(self.xs[:, f], set_x, self.ys)\n",
        "        if cur_gini < self.gini_score:\n",
        "          self.split = split_value\n",
        "          self.col_id = f\n",
        "          self.gini_score = cur_gini\n",
        "\n",
        "    if split_value == -1:\n",
        "      return self.calculateResult() if self.depth != self.max_depth else False\n",
        "    self.features.remove(self.col_id)\n",
        "\n",
        "    t = self.xs[:,self.col_id].argsort()\n",
        "    new_x = self.xs[t]\n",
        "    new_y = self.ys[t]\n",
        "    s = np.count_nonzero(self.xs[:,self.col_id] < self.split)\n",
        "\n",
        "    self.lt = DecisionTree(self.class_n, self.features, self.depth-1, self.max_depth, self.leaf, self.min_split, new_x[:s, :], new_y[:s])\n",
        "    self.lt.runTree()\n",
        "    self.rt = DecisionTree(self.class_n, self.features, self.depth-1, self.max_depth, self.leaf, self.min_split, new_x[s:, :], new_y[s:])\n",
        "    self.rt.runTree()\n",
        "    self.features.append(self.col_id)\n",
        "    return\n",
        "\n",
        "  def getSplit(self, xs, x_set, ys):\n",
        "    best_s = -1\n",
        "    best_gini = float('inf')\n",
        "    for x in x_set:\n",
        "      if np.count_nonzero(xs < x) >= self.min_split and np.count_nonzero(xs >= x) >= self.min_split:\n",
        "        temp = self.giniIndex(x, xs, ys)\n",
        "        if temp < best_gini:\n",
        "          best_gini = temp\n",
        "          best_s = x\n",
        "    return best_s, best_gini\n",
        "\n",
        "  def giniIndex(self, test_split, xs, ys): \n",
        "    p = [0] * self.class_n \n",
        "    for i in range(self.class_n):\n",
        "      p[i] = np.count_nonzero(ys == i)                                                      \n",
        "\n",
        "    left_s = [0] * self.class_n \n",
        "    right_s = [0] * self.class_n \n",
        "    for x, y in zip(xs, ys):\n",
        "      if x < test_split:\n",
        "        left_s[y] += 1\n",
        "      else:\n",
        "        right_s[y] += 1 \n",
        "    if np.sum(left_s) == 0 or np.sum(right_s) == 0:\n",
        "      return float('inf')\n",
        "    \n",
        "    gini_c = [0] * self.class_n\n",
        "    for i in range(self.class_n):\n",
        "      gini_c[i] = 1 - ((left_s[i]/p[i])**2) - ((right_s[i]/p[i])**2) if p[i] != 0 else 1\n",
        "\n",
        "    gini = 0\n",
        "    for i in range(self.class_n):\n",
        "      gini += (p[i]/len(ys))*gini_c[i]\n",
        "    return gini\n",
        "\n",
        "  def predict(self, x):\n",
        "    if self.res != None:\n",
        "      return self.res \n",
        "    return self.lt.predict(x) if x[self.col_id] < self.split else self.rt.predict(x)\n"
      ],
      "execution_count": 9,
      "outputs": []
    },
    {
      "cell_type": "code",
      "metadata": {
        "id": "Ax2tQK2HPjjL"
      },
      "source": [
        "model = RandomForest(len(train_x), 10, 550, 2000, 15, 10, 850)\n",
        "model.fit(train_x, train_y)"
      ],
      "execution_count": null,
      "outputs": []
    },
    {
      "cell_type": "code",
      "metadata": {
        "id": "JliP3tcEdsrj"
      },
      "source": [
        "pred = model.predict(test_x)"
      ],
      "execution_count": null,
      "outputs": []
    },
    {
      "cell_type": "code",
      "metadata": {
        "colab": {
          "base_uri": "https://localhost:8080/"
        },
        "id": "Jtdd1nrhJjX9",
        "outputId": "be35e65d-ea2c-425f-ea31-5d86f9e7b633"
      },
      "source": [
        "pred = np.array(pred)\n",
        "\n",
        "correct = np.count_nonzero(pred == test_y)\n",
        "print(correct, len(pred) - correct)"
      ],
      "execution_count": 16,
      "outputs": [
        {
          "output_type": "stream",
          "text": [
            "3400 5000\n"
          ],
          "name": "stdout"
        }
      ]
    },
    {
      "cell_type": "code",
      "metadata": {
        "colab": {
          "base_uri": "https://localhost:8080/"
        },
        "id": "l495-nqrLSo6",
        "outputId": "1b6f415e-c42d-409c-8c9e-306c4b242d3b"
      },
      "source": [
        "runEval(test_y, pred, 10, 2)"
      ],
      "execution_count": 15,
      "outputs": [
        {
          "output_type": "stream",
          "text": [
            "[[476.  40.  49.   7. 118.   0. 119.   1.  13.   0.]\n",
            " [  0. 865.   7.   7.   0.   0.   3.   5.  74.   0.]\n",
            " [ 35. 126. 225. 220.  69.   0.  70.   0.  85.   0.]\n",
            " [ 14. 241. 102. 407.  26.   0.  16.  36.   7.   0.]\n",
            " [ 45. 251.   9.  30. 424.   0.  42.  36.   5.   0.]\n",
            " [ 16. 357. 118. 119.  67.   0.  16.  51.  46.   0.]\n",
            " [160. 121.  40.   9.  75.   0. 368.   1.  61.   0.]\n",
            " [ 22. 414.   3.   5.  28.   0.   9. 377.  10.   0.]\n",
            " [ 39. 266.  49.  55.  21.   0.  77.  35. 258.   0.]\n",
            " [ 20. 311.   0.   4. 197.   0.  11. 253.   6.   0.]]\n",
            "TN:  7193.0 \tFP:  377.0 \n",
            "FN:  605.0 \tTP:  225.0\n",
            "Accuracy:  0.883095238095238\n",
            "Sensitivity:  0.2710843373493976\n",
            "Specificity:  0.9501981505944518\n",
            "Positive Predictive Value:  0.37375415282392027\n",
            "False Positive Rate:  0.049801849405548215\n",
            "F1 Score:  0.31424581005586594\n"
          ],
          "name": "stdout"
        }
      ]
    },
    {
      "cell_type": "markdown",
      "metadata": {
        "id": "wxTKFnahvpYk"
      },
      "source": [
        "# kNN\n",
        "\n",
        "Code taken and modified from Project 1"
      ]
    },
    {
      "cell_type": "code",
      "metadata": {
        "id": "8tITuqLpvckl",
        "colab": {
          "base_uri": "https://localhost:8080/",
          "height": 467
        },
        "outputId": "d0c12e76-4833-4316-b966-b276624776ef"
      },
      "source": [
        "data_x, data_y = readyData()\n",
        "\n",
        "split = 33600\n",
        "train_x = data_x[:split, :]\n",
        "train_y = data_y[:split]\n",
        "test_x = data_x[split:, :]\n",
        "test_y = data_y[split:]"
      ],
      "execution_count": null,
      "outputs": [
        {
          "output_type": "display_data",
          "data": {
            "image/png": "[encoded data removed]",
            "text/plain": [
              "<PIL.Image.Image image mode=RGB size=28x28 at 0x7F23D3C48B90>"
            ]
          },
          "metadata": {
            "tags": []
          }
        },
        {
          "output_type": "stream",
          "text": [
            "\n"
          ],
          "name": "stdout"
        },
        {
          "output_type": "display_data",
          "data": {
            "image/png": "[encoded data removed]",
            "text/plain": [
              "<PIL.Image.Image image mode=RGB size=28x28 at 0x7F23BBFE8B50>"
            ]
          },
          "metadata": {
            "tags": []
          }
        },
        {
          "output_type": "stream",
          "text": [
            "\n"
          ],
          "name": "stdout"
        },
        {
          "output_type": "display_data",
          "data": {
            "image/png": "[encoded data removed]",
            "text/plain": [
              "<PIL.Image.Image image mode=RGB size=28x28 at 0x7F23D3BFED90>"
            ]
          },
          "metadata": {
            "tags": []
          }
        },
        {
          "output_type": "stream",
          "text": [
            "\n"
          ],
          "name": "stdout"
        },
        {
          "output_type": "display_data",
          "data": {
            "image/png": "[encoded data removed]",
            "text/plain": [
              "<PIL.Image.Image image mode=RGB size=28x28 at 0x7F23D3BFEBD0>"
            ]
          },
          "metadata": {
            "tags": []
          }
        },
        {
          "output_type": "stream",
          "text": [
            "\n"
          ],
          "name": "stdout"
        },
        {
          "output_type": "display_data",
          "data": {
            "image/png": "[encoded data removed]",
            "text/plain": [
              "<PIL.Image.Image image mode=RGB size=28x28 at 0x7F23D3C48D50>"
            ]
          },
          "metadata": {
            "tags": []
          }
        },
        {
          "output_type": "stream",
          "text": [
            "\n"
          ],
          "name": "stdout"
        },
        {
          "output_type": "display_data",
          "data": {
            "image/png": "[encoded data removed]",
            "text/plain": [
              "<PIL.Image.Image image mode=RGB size=28x28 at 0x7F23D3C0C210>"
            ]
          },
          "metadata": {
            "tags": []
          }
        },
        {
          "output_type": "stream",
          "text": [
            "\n"
          ],
          "name": "stdout"
        },
        {
          "output_type": "display_data",
          "data": {
            "image/png": "[encoded data removed]",
            "text/plain": [
              "<PIL.Image.Image image mode=RGB size=28x28 at 0x7F23D3C0C250>"
            ]
          },
          "metadata": {
            "tags": []
          }
        },
        {
          "output_type": "stream",
          "text": [
            "\n"
          ],
          "name": "stdout"
        },
        {
          "output_type": "display_data",
          "data": {
            "image/png": "[encoded data removed]",
            "text/plain": [
              "<PIL.Image.Image image mode=RGB size=28x28 at 0x7F23D3BFEE90>"
            ]
          },
          "metadata": {
            "tags": []
          }
        },
        {
          "output_type": "stream",
          "text": [
            "\n"
          ],
          "name": "stdout"
        },
        {
          "output_type": "display_data",
          "data": {
            "image/png": "[encoded data removed]",
            "text/plain": [
              "<PIL.Image.Image image mode=RGB size=28x28 at 0x7F23D3C0C190>"
            ]
          },
          "metadata": {
            "tags": []
          }
        },
        {
          "output_type": "stream",
          "text": [
            "\n"
          ],
          "name": "stdout"
        },
        {
          "output_type": "display_data",
          "data": {
            "image/png": "[encoded data removed]",
            "text/plain": [
              "<PIL.Image.Image image mode=RGB size=28x28 at 0x7F23D3C0C050>"
            ]
          },
          "metadata": {
            "tags": []
          }
        },
        {
          "output_type": "stream",
          "text": [
            "\n"
          ],
          "name": "stdout"
        }
      ]
    },
    {
      "cell_type": "code",
      "metadata": {
        "id": "5pwgcewSv373"
      },
      "source": [
        "# knn and distance metric\n",
        "def eu_distance(x1, x2):\n",
        "  temp = x1-x2\n",
        "  dist = np.sum(temp*temp, axis=1)\n",
        "  return np.sqrt(dist)\n",
        "\n",
        "class KNN:\n",
        "  def run(self, test_x, train_x, train_y):\n",
        "    dist_list = eu_distance(test_x, train_x)\n",
        "    \n",
        "    # Sort the list in descending order\n",
        "    order = np.argsort(dist_list)\n",
        "    dist_sort = dist_list[order]\n",
        "    self.nearest_y = train_y[order]\n",
        "    return\n",
        "\n",
        "  def predict(self, k):\n",
        "    count={}\n",
        "    for i in range(0, k):\n",
        "      c = self.nearest_y[i]\n",
        "      count[c] = count[c] + 1 if c in count else 1\n",
        "    max_count = 0\n",
        "    for k, v in count.items():\n",
        "      if v > max_count:\n",
        "        max_class = k\n",
        "        max_count = v\n",
        "    return max_class"
      ],
      "execution_count": null,
      "outputs": []
    },
    {
      "cell_type": "code",
      "metadata": {
        "id": "1DPurSFOylMM"
      },
      "source": [
        "model = KNN()\n",
        "\n",
        "k_list = [1,10,50,100]\n",
        "pred = []\n",
        "for x, y in zip(test_x, test_y):\n",
        "  model.run(x, train_x, train_y)\n",
        "  temp = []\n",
        "  temp.append(y)\n",
        "  for k in k_list:\n",
        "    yhat = model.predict(k)\n",
        "    temp.append(yhat)\n",
        "  pred.append(temp)"
      ],
      "execution_count": null,
      "outputs": []
    },
    {
      "cell_type": "code",
      "metadata": {
        "colab": {
          "background_save": true
        },
        "id": "YcLEbg2Atflo",
        "outputId": "ea5f20eb-6961-40c7-89cb-d08c1cdfd1e5"
      },
      "source": [
        "pred = np.array(pred)\n",
        "for k in range(len(k_list)):\n",
        "  print(\"With k: \", k_list[k])\n",
        "  runEval(pred[:, 0], pred[:, k+1], 10, 5)\n",
        "  print()"
      ],
      "execution_count": null,
      "outputs": [
        {
          "output_type": "stream",
          "text": [
            "With k:  1\n",
            "[[759.   1.   2.   0.   0.   1.   2.   0.   0.   1.]\n",
            " [  0. 922.   3.   0.   0.   0.   0.   0.   1.   0.]\n",
            " [  7.   5. 828.   4.   0.   1.   0.  17.   2.   2.]\n",
            " [  0.   2.   1. 802.   0.  11.   1.   5.   6.   3.]\n",
            " [  0.   6.   0.   0. 749.   1.   3.   0.   0.  23.]\n",
            " [  0.   1.   0.  17.   2. 712.  10.   0.   3.   9.]\n",
            " [  2.   1.   0.   1.   0.   2. 861.   0.   0.   0.]\n",
            " [  0.   7.   2.   0.   2.   0.   0. 854.   0.  11.]\n",
            " [  1.   7.   1.  14.   2.  11.   3.   1. 827.   7.]\n",
            " [  4.   1.   2.   6.   9.   5.   0.  18.   5. 808.]]\n",
            "TN:  7614.0 \tFP:  32.0 \n",
            "FN:  42.0 \tTP:  712.0\n",
            "Accuracy:  0.9911904761904762\n",
            "Sensitivity:  0.9442970822281167\n",
            "Specificity:  0.9958148051268637\n",
            "Positive Predictive Value:  0.956989247311828\n",
            "False Positive Rate:  0.00418519487313628\n",
            "\n",
            "With k:  10\n",
            "[[757.   2.   2.   0.   0.   1.   3.   1.   0.   0.]\n",
            " [  0. 923.   1.   0.   0.   0.   0.   0.   1.   1.]\n",
            " [  9.   9. 817.   3.   0.   0.   3.  21.   2.   2.]\n",
            " [  1.   3.   1. 804.   1.  10.   1.   3.   5.   2.]\n",
            " [  1.   5.   0.   0. 748.   0.   3.   1.   0.  24.]\n",
            " [  0.   4.   0.  15.   0. 713.   9.   1.   0.  12.]\n",
            " [  1.   1.   0.   0.   0.   0. 865.   0.   0.   0.]\n",
            " [  2.  11.   0.   0.   1.   0.   0. 853.   0.   9.]\n",
            " [  2.  11.   2.  14.   4.  10.   5.   2. 813.  11.]\n",
            " [  5.   1.   1.   8.   9.   3.   0.  13.   2. 816.]]\n",
            "TN:  7622.0 \tFP:  24.0 \n",
            "FN:  41.0 \tTP:  713.0\n",
            "Accuracy:  0.9922619047619048\n",
            "Sensitivity:  0.9456233421750663\n",
            "Specificity:  0.9968611038451478\n",
            "Positive Predictive Value:  0.9674355495251018\n",
            "False Positive Rate:  0.0031388961548522104\n",
            "\n",
            "With k:  50\n",
            "[[754.   2.   2.   0.   0.   2.   5.   1.   0.   0.]\n",
            " [  0. 924.   1.   0.   0.   0.   0.   0.   1.   0.]\n",
            " [ 12.  23. 779.   8.   4.   4.   3.  24.   6.   3.]\n",
            " [  2.   8.   1. 792.   1.  11.   1.   5.   7.   3.]\n",
            " [  1.  11.   0.   0. 725.   0.   8.   2.   0.  35.]\n",
            " [  3.   8.   1.  15.   2. 697.  11.   1.   2.  14.]\n",
            " [  4.   5.   0.   0.   0.   1. 857.   0.   0.   0.]\n",
            " [  2.  19.   1.   0.   4.   0.   0. 834.   0.  16.]\n",
            " [  4.  20.   1.  23.   9.  14.   7.   4. 775.  17.]\n",
            " [  7.   3.   1.  18.   7.   0.   0.  20.   2. 800.]]\n",
            "TN:  7614.0 \tFP:  32.0 \n",
            "FN:  57.0 \tTP:  697.0\n",
            "Accuracy:  0.9894047619047619\n",
            "Sensitivity:  0.9244031830238727\n",
            "Specificity:  0.9958148051268637\n",
            "Positive Predictive Value:  0.9561042524005487\n",
            "False Positive Rate:  0.00418519487313628\n",
            "\n",
            "With k:  100\n",
            "[[748.   2.   1.   0.   0.   4.  10.   1.   0.   0.]\n",
            " [  0. 925.   0.   0.   0.   0.   0.   0.   1.   0.]\n",
            " [ 14.  32. 757.   7.   4.   4.   4.  29.  10.   5.]\n",
            " [  4.  11.   2. 781.   1.  12.   1.   7.  10.   2.]\n",
            " [  1.  20.   0.   0. 712.   0.   8.   2.   0.  39.]\n",
            " [  4.  15.   0.  18.   1. 685.  12.   2.   0.  17.]\n",
            " [  5.   8.   0.   0.   1.   2. 851.   0.   0.   0.]\n",
            " [  2.  28.   1.   0.   4.   1.   0. 822.   0.  18.]\n",
            " [  4.  29.   1.  29.   8.  17.   8.   5. 751.  22.]\n",
            " [  8.   4.   0.  17.   8.   3.   0.  25.   2. 791.]]\n",
            "TN:  7603.0 \tFP:  43.0 \n",
            "FN:  69.0 \tTP:  685.0\n",
            "Accuracy:  0.9866666666666667\n",
            "Sensitivity:  0.9084880636604774\n",
            "Specificity:  0.9943761443892232\n",
            "Positive Predictive Value:  0.9409340659340659\n",
            "False Positive Rate:  0.005623855610776877\n",
            "\n"
          ],
          "name": "stdout"
        }
      ]
    },
    {
      "cell_type": "code",
      "metadata": {
        "id": "Oe57SoKNtt79",
        "colab": {
          "base_uri": "https://localhost:8080/",
          "height": 276
        },
        "outputId": "cd456492-47e9-4418-9ba1-7a0e2e25a714"
      },
      "source": [
        "k_list = [1,10,50,100]\n",
        "acc = [0.9911904761904762,0.9922619047619048, 0.9894047619047619, 0.9866666666666667]\n",
        "printScatterplot(k_list, acc, \"K-value\", \"Accuracy\")"
      ],
      "execution_count": null,
      "outputs": [
        {
          "output_type": "display_data",
          "data": {
            "image/png": "[encoded data removed]",
            "text/plain": [
              "<Figure size 432x288 with 1 Axes>"
            ]
          },
          "metadata": {
            "tags": []
          }
        }
      ]
    },
    {
      "cell_type": "code",
      "metadata": {
        "id": "tZkSmDeN4Kpb"
      },
      "source": [
        ""
      ],
      "execution_count": null,
      "outputs": []
    }
  ]
}